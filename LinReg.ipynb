{
 "cells": [
  {
   "cell_type": "code",
   "execution_count": 1,
   "metadata": {},
   "outputs": [],
   "source": [
    "import pandas as pd\n",
    "df = pd.read_csv(\"movie_industry.csv\", encoding = \"latin1\")"
   ]
  },
  {
   "cell_type": "code",
   "execution_count": 2,
   "metadata": {},
   "outputs": [],
   "source": [
    "df[\"profit\"] = df.apply(lambda row: row['gross'] - row['budget'], axis = 1)"
   ]
  },
  {
   "cell_type": "code",
   "execution_count": 3,
   "metadata": {},
   "outputs": [],
   "source": [
    "df = df[df[\"budget\"] != 0]"
   ]
  },
  {
   "cell_type": "code",
   "execution_count": 4,
   "metadata": {},
   "outputs": [],
   "source": [
    "import matplotlib.pyplot as plt\n",
    "import numpy as np\n",
    "from sklearn.linear_model import LinearRegression"
   ]
  },
  {
   "cell_type": "code",
   "execution_count": 5,
   "metadata": {
    "scrolled": true
   },
   "outputs": [
    {
     "data": {
      "image/png": "[encoded data removed]",
      "text/plain": [
       "<Figure size 432x288 with 1 Axes>"
      ]
     },
     "metadata": {
      "needs_background": "light"
     },
     "output_type": "display_data"
    }
   ],
   "source": [
    "x = df[\"budget\"]\n",
    "y = df[\"profit\"]\n",
    "z = df[\"runtime\"]\n",
    "plt.scatter(z,x)\n",
    "plt.show()"
   ]
  },
  {
   "cell_type": "code",
   "execution_count": 12,
   "metadata": {},
   "outputs": [],
   "source": [
    "def ratingplot(rating):\n",
    "    p = df[df[\"rating\"] == rating]\n",
    "    x = p[\"budget\"]\n",
    "    y = p[\"profit\"]\n",
    "    plt.scatter(x,y)\n",
    "    plt.show()\n",
    "    x = np.array(x).reshape(-1,1)\n",
    "    y = np.array(y)\n",
    "    model = LinearRegression().fit(x,y)\n",
    "    print(model.score(x,y))"
   ]
  },
  {
   "cell_type": "code",
   "execution_count": 17,
   "metadata": {},
   "outputs": [],
   "source": [
    "import datetime\n",
    "def weeknumber(ymd):\n",
    "    m = ymd[0:ymd.find(\"/\")]\n",
    "    d = ymd[ymd.find(\"/\")+1 : ymd.find(\"/\",3)]\n",
    "    y = ymd[ymd.find(\"/\", 3) + 1:]\n",
    "    try:\n",
    "        return datetime.date(int(y), int(m), int(d)).isocalendar()[1]\n",
    "    except:\n",
    "        return -1"
   ]
  },
  {
   "cell_type": "code",
   "execution_count": 18,
   "metadata": {},
   "outputs": [],
   "source": [
    "df[\"weekrelease\"] = df.apply(lambda row: weeknumber(row[\"released\"]), axis = 1)"
   ]
  },
  {
   "cell_type": "code",
   "execution_count": 22,
   "metadata": {},
   "outputs": [],
   "source": [
    "df = df[df[\"weekrelease\"] != -1]"
   ]
  },
  {
   "cell_type": "code",
   "execution_count": 31,
   "metadata": {
    "scrolled": true
   },
   "outputs": [],
   "source": [
    "X = df.drop(\"profit\", axis = 1)\n",
    "Y = df[\"profit\"]"
   ]
  },
  {
   "cell_type": "code",
   "execution_count": 33,
   "metadata": {},
   "outputs": [],
   "source": [
    "from sklearn.model_selection import train_test_split\n",
    "X_train, X_test, y_train, y_test = train_test_split(X, Y, random_state=42)"
   ]
  },
  {
   "cell_type": "code",
   "execution_count": 36,
   "metadata": {},
   "outputs": [],
   "source": [
    "from sklearn.linear_model import LogisticRegression"
   ]
  },
  {
   "cell_type": "code",
   "execution_count": 255,
   "metadata": {},
   "outputs": [],
   "source": [
    "ratings = {}\n",
    "def zscores(name, column):\n",
    "    if(name in ratings):\n",
    "        return ratings[name]\n",
    "    else:\n",
    "        up = X_train[X_train[column] == name]\n",
    "        if(len(up) < 2):\n",
    "            return 0\n",
    "        mnup = np.mean(up[\"profit\"])\n",
    "        mnX = np.mean(X_train[\"profit\"])\n",
    "        std = np.std(X_train[\"profit\"])\n",
    "        ratings[name] = (mnup - mnX)/std\n",
    "        return ratings[name]"
   ]
  },
  {
   "cell_type": "code",
   "execution_count": 268,
   "metadata": {},
   "outputs": [
    {
     "data": {
      "text/html": [
       "<div>\n",
       "<style scoped>\n",
       "    .dataframe tbody tr th:only-of-type {\n",
       "        vertical-align: middle;\n",
       "    }\n",
       "\n",
       "    .dataframe tbody tr th {\n",
       "        vertical-align: top;\n",
       "    }\n",
       "\n",
       "    .dataframe thead th {\n",
       "        text-align: right;\n",
       "    }\n",
       "</style>\n",
       "<table border=\"1\" class=\"dataframe\">\n",
       "  <thead>\n",
       "    <tr style=\"text-align: right;\">\n",
       "      <th></th>\n",
       "      <th>budget</th>\n",
       "      <th>company</th>\n",
       "      <th>country</th>\n",
       "      <th>director</th>\n",
       "      <th>genre</th>\n",
       "      <th>gross</th>\n",
       "      <th>name</th>\n",
       "      <th>rating</th>\n",
       "      <th>released</th>\n",
       "      <th>runtime</th>\n",
       "      <th>...</th>\n",
       "      <th>votes</th>\n",
       "      <th>writer</th>\n",
       "      <th>year</th>\n",
       "      <th>weekrelease</th>\n",
       "      <th>rating zscore</th>\n",
       "      <th>genre zscore</th>\n",
       "      <th>weekrelease zscore</th>\n",
       "      <th>company zscore</th>\n",
       "      <th>star zscore</th>\n",
       "      <th>writer zscore</th>\n",
       "    </tr>\n",
       "  </thead>\n",
       "  <tbody>\n",
       "    <tr>\n",
       "      <td>3497</td>\n",
       "      <td>38000000</td>\n",
       "      <td>Fox 2000 Pictures</td>\n",
       "      <td>USA</td>\n",
       "      <td>John Pasquin</td>\n",
       "      <td>Comedy</td>\n",
       "      <td>22770864</td>\n",
       "      <td>Joe Somebody</td>\n",
       "      <td>PG</td>\n",
       "      <td>12/21/01</td>\n",
       "      <td>98</td>\n",
       "      <td>...</td>\n",
       "      <td>8891</td>\n",
       "      <td>John Scott Shepherd</td>\n",
       "      <td>2001</td>\n",
       "      <td>51</td>\n",
       "      <td>0.162876</td>\n",
       "      <td>0.052852</td>\n",
       "      <td>0.662001</td>\n",
       "      <td>0.103152</td>\n",
       "      <td>0.459053</td>\n",
       "      <td>0.000000</td>\n",
       "    </tr>\n",
       "    <tr>\n",
       "      <td>5552</td>\n",
       "      <td>6000000</td>\n",
       "      <td>Code Red</td>\n",
       "      <td>USA</td>\n",
       "      <td>Lance Daly</td>\n",
       "      <td>Drama</td>\n",
       "      <td>4106</td>\n",
       "      <td>The Good Doctor</td>\n",
       "      <td>PG-13</td>\n",
       "      <td>8/31/12</td>\n",
       "      <td>91</td>\n",
       "      <td>...</td>\n",
       "      <td>5532</td>\n",
       "      <td>John Enbom</td>\n",
       "      <td>2011</td>\n",
       "      <td>35</td>\n",
       "      <td>0.068269</td>\n",
       "      <td>-0.090725</td>\n",
       "      <td>-0.280831</td>\n",
       "      <td>0.000000</td>\n",
       "      <td>0.000000</td>\n",
       "      <td>0.000000</td>\n",
       "    </tr>\n",
       "    <tr>\n",
       "      <td>2535</td>\n",
       "      <td>12000000</td>\n",
       "      <td>Channel Four Films</td>\n",
       "      <td>UK</td>\n",
       "      <td>Danny Boyle</td>\n",
       "      <td>Comedy</td>\n",
       "      <td>4266243</td>\n",
       "      <td>A Life Less Ordinary</td>\n",
       "      <td>R</td>\n",
       "      <td>10/24/97</td>\n",
       "      <td>103</td>\n",
       "      <td>...</td>\n",
       "      <td>31471</td>\n",
       "      <td>John Hodge</td>\n",
       "      <td>1997</td>\n",
       "      <td>43</td>\n",
       "      <td>-0.105197</td>\n",
       "      <td>0.052852</td>\n",
       "      <td>-0.213711</td>\n",
       "      <td>-0.168469</td>\n",
       "      <td>0.045894</td>\n",
       "      <td>-0.354848</td>\n",
       "    </tr>\n",
       "    <tr>\n",
       "      <td>4944</td>\n",
       "      <td>40000000</td>\n",
       "      <td>Columbia Pictures</td>\n",
       "      <td>USA</td>\n",
       "      <td>Pete Travis</td>\n",
       "      <td>Crime</td>\n",
       "      <td>72266306</td>\n",
       "      <td>Vantage Point</td>\n",
       "      <td>PG-13</td>\n",
       "      <td>2/22/08</td>\n",
       "      <td>90</td>\n",
       "      <td>...</td>\n",
       "      <td>132882</td>\n",
       "      <td>Barry L. Levy</td>\n",
       "      <td>2008</td>\n",
       "      <td>8</td>\n",
       "      <td>0.068269</td>\n",
       "      <td>-0.122647</td>\n",
       "      <td>-0.259548</td>\n",
       "      <td>0.171537</td>\n",
       "      <td>-0.176736</td>\n",
       "      <td>0.000000</td>\n",
       "    </tr>\n",
       "    <tr>\n",
       "      <td>5836</td>\n",
       "      <td>39000000</td>\n",
       "      <td>Walt Disney Pictures</td>\n",
       "      <td>USA</td>\n",
       "      <td>Tim Burton</td>\n",
       "      <td>Animation</td>\n",
       "      <td>35291068</td>\n",
       "      <td>Frankenweenie</td>\n",
       "      <td>PG</td>\n",
       "      <td>10/5/12</td>\n",
       "      <td>87</td>\n",
       "      <td>...</td>\n",
       "      <td>81006</td>\n",
       "      <td>Leonard Ripps</td>\n",
       "      <td>2012</td>\n",
       "      <td>40</td>\n",
       "      <td>0.162876</td>\n",
       "      <td>0.407114</td>\n",
       "      <td>0.013753</td>\n",
       "      <td>0.287071</td>\n",
       "      <td>-0.246018</td>\n",
       "      <td>0.000000</td>\n",
       "    </tr>\n",
       "  </tbody>\n",
       "</table>\n",
       "<p>5 rows × 23 columns</p>\n",
       "</div>"
      ],
      "text/plain": [
       "        budget               company country      director      genre  \\\n",
       "3497  38000000     Fox 2000 Pictures     USA  John Pasquin     Comedy   \n",
       "5552   6000000              Code Red     USA    Lance Daly      Drama   \n",
       "2535  12000000    Channel Four Films      UK   Danny Boyle     Comedy   \n",
       "4944  40000000     Columbia Pictures     USA   Pete Travis      Crime   \n",
       "5836  39000000  Walt Disney Pictures     USA    Tim Burton  Animation   \n",
       "\n",
       "         gross                  name rating  released  runtime  ...   votes  \\\n",
       "3497  22770864          Joe Somebody     PG  12/21/01       98  ...    8891   \n",
       "5552      4106       The Good Doctor  PG-13   8/31/12       91  ...    5532   \n",
       "2535   4266243  A Life Less Ordinary      R  10/24/97      103  ...   31471   \n",
       "4944  72266306         Vantage Point  PG-13   2/22/08       90  ...  132882   \n",
       "5836  35291068         Frankenweenie     PG   10/5/12       87  ...   81006   \n",
       "\n",
       "                   writer  year  weekrelease rating zscore  genre zscore  \\\n",
       "3497  John Scott Shepherd  2001           51      0.162876      0.052852   \n",
       "5552           John Enbom  2011           35      0.068269     -0.090725   \n",
       "2535           John Hodge  1997           43     -0.105197      0.052852   \n",
       "4944        Barry L. Levy  2008            8      0.068269     -0.122647   \n",
       "5836        Leonard Ripps  2012           40      0.162876      0.407114   \n",
       "\n",
       "      weekrelease zscore  company zscore  star zscore  writer zscore  \n",
       "3497            0.662001        0.103152     0.459053       0.000000  \n",
       "5552           -0.280831        0.000000     0.000000       0.000000  \n",
       "2535           -0.213711       -0.168469     0.045894      -0.354848  \n",
       "4944           -0.259548        0.171537    -0.176736       0.000000  \n",
       "5836            0.013753        0.287071    -0.246018       0.000000  \n",
       "\n",
       "[5 rows x 23 columns]"
      ]
     },
     "execution_count": 268,
     "metadata": {},
     "output_type": "execute_result"
    }
   ],
   "source": [
    "X_train.head()"
   ]
  },
  {
   "cell_type": "code",
   "execution_count": 269,
   "metadata": {},
   "outputs": [
    {
     "data": {
      "text/plain": [
       "{}"
      ]
     },
     "execution_count": 269,
     "metadata": {},
     "output_type": "execute_result"
    }
   ],
   "source": []
  },
  {
   "cell_type": "code",
   "execution_count": null,
   "metadata": {},
   "outputs": [],
   "source": []
  },
  {
   "cell_type": "code",
   "execution_count": null,
   "metadata": {},
   "outputs": [],
   "source": []
  },
  {
   "cell_type": "code",
   "execution_count": null,
   "metadata": {},
   "outputs": [],
   "source": []
  },
  {
   "cell_type": "code",
   "execution_count": null,
   "metadata": {},
   "outputs": [],
   "source": []
  },
  {
   "cell_type": "code",
   "execution_count": null,
   "metadata": {},
   "outputs": [],
   "source": []
  },
  {
   "cell_type": "code",
   "execution_count": 74,
   "metadata": {},
   "outputs": [
    {
     "name": "stderr",
     "output_type": "stream",
     "text": [
      "/Users/willieturchetta/anaconda3/lib/python3.7/site-packages/ipykernel_launcher.py:1: SettingWithCopyWarning: \n",
      "A value is trying to be set on a copy of a slice from a DataFrame.\n",
      "Try using .loc[row_indexer,col_indexer] = value instead\n",
      "\n",
      "See the caveats in the documentation: http://pandas.pydata.org/pandas-docs/stable/user_guide/indexing.html#returning-a-view-versus-a-copy\n",
      "  \"\"\"Entry point for launching an IPython kernel.\n"
     ]
    }
   ],
   "source": [
    "X_train[\"rating zscore\"] = X_train.apply(lambda row: zscores(row[\"rating\"], \"rating\"), axis = 1)"
   ]
  },
  {
   "cell_type": "code",
   "execution_count": 68,
   "metadata": {},
   "outputs": [],
   "source": [
    "X_train.insert(12, \"profit\", y_train, True)"
   ]
  },
  {
   "cell_type": "code",
   "execution_count": 77,
   "metadata": {},
   "outputs": [
    {
     "name": "stderr",
     "output_type": "stream",
     "text": [
      "/Users/willieturchetta/anaconda3/lib/python3.7/site-packages/ipykernel_launcher.py:1: SettingWithCopyWarning: \n",
      "A value is trying to be set on a copy of a slice from a DataFrame.\n",
      "Try using .loc[row_indexer,col_indexer] = value instead\n",
      "\n",
      "See the caveats in the documentation: http://pandas.pydata.org/pandas-docs/stable/user_guide/indexing.html#returning-a-view-versus-a-copy\n",
      "  \"\"\"Entry point for launching an IPython kernel.\n"
     ]
    }
   ],
   "source": [
    "X_test[\"rating zscore\"] = X_test.apply(lambda row: zscores(row[\"rating\"], \"rating\"), axis = 1)"
   ]
  },
  {
   "cell_type": "code",
   "execution_count": 261,
   "metadata": {},
   "outputs": [],
   "source": [
    "X_train1 = X_train[[\"budget\", \"genre zscore\", \"weekrelease zscore\", \"company zscore\", \"writer zscore\"]]"
   ]
  },
  {
   "cell_type": "code",
   "execution_count": 262,
   "metadata": {},
   "outputs": [],
   "source": [
    "part1 = X_train1.to_numpy()\n",
    "part2 = y_train.to_numpy()"
   ]
  },
  {
   "cell_type": "code",
   "execution_count": 263,
   "metadata": {},
   "outputs": [],
   "source": [
    "test1 = X_test[[\"budget\", \"genre zscore\", \"weekrelease zscore\", \"company zscore\", \"writer zscore\"]]\n",
    "test2 = y_test\n",
    "\n",
    "test1 = test1.to_numpy()\n",
    "test2 = test2.to_numpy()\n",
    "\n"
   ]
  },
  {
   "cell_type": "code",
   "execution_count": 264,
   "metadata": {},
   "outputs": [],
   "source": [
    "model = LinearRegression().fit(part1, part2)"
   ]
  },
  {
   "cell_type": "code",
   "execution_count": 266,
   "metadata": {},
   "outputs": [
    {
     "data": {
      "text/plain": [
       "0.14990410473465277"
      ]
     },
     "execution_count": 266,
     "metadata": {},
     "output_type": "execute_result"
    }
   ],
   "source": [
    "model.score(test1, test2)"
   ]
  },
  {
   "cell_type": "code",
   "execution_count": 250,
   "metadata": {},
   "outputs": [],
   "source": [
    "predictions = model.predict(part1)"
   ]
  },
  {
   "cell_type": "code",
   "execution_count": 252,
   "metadata": {},
   "outputs": [
    {
     "data": {
      "text/plain": [
       "array([ 37133307.01433666,  -1367479.16404703, -21095552.53739334, ...,\n",
       "       -32138236.99490932, -12927513.82453316,  19071547.38412618])"
      ]
     },
     "execution_count": 252,
     "metadata": {},
     "output_type": "execute_result"
    }
   ],
   "source": [
    "predictions"
   ]
  },
  {
   "cell_type": "code",
   "execution_count": 248,
   "metadata": {},
   "outputs": [
    {
     "name": "stderr",
     "output_type": "stream",
     "text": [
      "/Users/willieturchetta/anaconda3/lib/python3.7/site-packages/ipykernel_launcher.py:1: SettingWithCopyWarning: \n",
      "A value is trying to be set on a copy of a slice from a DataFrame.\n",
      "Try using .loc[row_indexer,col_indexer] = value instead\n",
      "\n",
      "See the caveats in the documentation: http://pandas.pydata.org/pandas-docs/stable/user_guide/indexing.html#returning-a-view-versus-a-copy\n",
      "  \"\"\"Entry point for launching an IPython kernel.\n",
      "/Users/willieturchetta/anaconda3/lib/python3.7/site-packages/ipykernel_launcher.py:2: SettingWithCopyWarning: \n",
      "A value is trying to be set on a copy of a slice from a DataFrame.\n",
      "Try using .loc[row_indexer,col_indexer] = value instead\n",
      "\n",
      "See the caveats in the documentation: http://pandas.pydata.org/pandas-docs/stable/user_guide/indexing.html#returning-a-view-versus-a-copy\n",
      "  \n"
     ]
    }
   ],
   "source": [
    "X_train[\"genre zscore\"] = X_train.apply(lambda row: zscores(row[\"genre\"], \"genre\"), axis = 1)\n",
    "X_test[\"genre zscore\"] = X_test.apply(lambda row: zscores(row[\"genre\"], \"genre\"), axis = 1)"
   ]
  },
  {
   "cell_type": "code",
   "execution_count": 100,
   "metadata": {},
   "outputs": [
    {
     "name": "stderr",
     "output_type": "stream",
     "text": [
      "/Users/willieturchetta/anaconda3/lib/python3.7/site-packages/ipykernel_launcher.py:1: SettingWithCopyWarning: \n",
      "A value is trying to be set on a copy of a slice from a DataFrame.\n",
      "Try using .loc[row_indexer,col_indexer] = value instead\n",
      "\n",
      "See the caveats in the documentation: http://pandas.pydata.org/pandas-docs/stable/user_guide/indexing.html#returning-a-view-versus-a-copy\n",
      "  \"\"\"Entry point for launching an IPython kernel.\n",
      "/Users/willieturchetta/anaconda3/lib/python3.7/site-packages/ipykernel_launcher.py:2: SettingWithCopyWarning: \n",
      "A value is trying to be set on a copy of a slice from a DataFrame.\n",
      "Try using .loc[row_indexer,col_indexer] = value instead\n",
      "\n",
      "See the caveats in the documentation: http://pandas.pydata.org/pandas-docs/stable/user_guide/indexing.html#returning-a-view-versus-a-copy\n",
      "  \n"
     ]
    }
   ],
   "source": [
    "X_train[\"weekrelease zscore\"] = X_train.apply(lambda row: zscores(row[\"weekrelease\"], \"weekrelease\"), axis = 1)\n",
    "X_test[\"weekrelease zscore\"] = X_test.apply(lambda row: zscores(row[\"weekrelease\"], \"weekrelease\"), axis = 1)"
   ]
  },
  {
   "cell_type": "code",
   "execution_count": 219,
   "metadata": {},
   "outputs": [
    {
     "name": "stderr",
     "output_type": "stream",
     "text": [
      "/Users/willieturchetta/anaconda3/lib/python3.7/site-packages/ipykernel_launcher.py:1: SettingWithCopyWarning: \n",
      "A value is trying to be set on a copy of a slice from a DataFrame.\n",
      "Try using .loc[row_indexer,col_indexer] = value instead\n",
      "\n",
      "See the caveats in the documentation: http://pandas.pydata.org/pandas-docs/stable/user_guide/indexing.html#returning-a-view-versus-a-copy\n",
      "  \"\"\"Entry point for launching an IPython kernel.\n",
      "/Users/willieturchetta/anaconda3/lib/python3.7/site-packages/ipykernel_launcher.py:2: SettingWithCopyWarning: \n",
      "A value is trying to be set on a copy of a slice from a DataFrame.\n",
      "Try using .loc[row_indexer,col_indexer] = value instead\n",
      "\n",
      "See the caveats in the documentation: http://pandas.pydata.org/pandas-docs/stable/user_guide/indexing.html#returning-a-view-versus-a-copy\n",
      "  \n"
     ]
    }
   ],
   "source": [
    "X_train[\"company zscore\"] = X_train.apply(lambda row: zscores(row[\"company\"], \"company\"), axis = 1)\n",
    "X_test[\"company zscore\"] = X_test.apply(lambda row: zscores(row[\"company\"], \"company\"), axis = 1)"
   ]
  },
  {
   "cell_type": "code",
   "execution_count": 220,
   "metadata": {},
   "outputs": [
    {
     "data": {
      "text/plain": [
       "1314"
      ]
     },
     "execution_count": 220,
     "metadata": {},
     "output_type": "execute_result"
    }
   ],
   "source": [
    "len(X_train[\"star\"].unique())"
   ]
  },
  {
   "cell_type": "code",
   "execution_count": 127,
   "metadata": {},
   "outputs": [
    {
     "name": "stderr",
     "output_type": "stream",
     "text": [
      "/Users/willieturchetta/anaconda3/lib/python3.7/site-packages/ipykernel_launcher.py:1: SettingWithCopyWarning: \n",
      "A value is trying to be set on a copy of a slice from a DataFrame.\n",
      "Try using .loc[row_indexer,col_indexer] = value instead\n",
      "\n",
      "See the caveats in the documentation: http://pandas.pydata.org/pandas-docs/stable/user_guide/indexing.html#returning-a-view-versus-a-copy\n",
      "  \"\"\"Entry point for launching an IPython kernel.\n",
      "/Users/willieturchetta/anaconda3/lib/python3.7/site-packages/ipykernel_launcher.py:2: SettingWithCopyWarning: \n",
      "A value is trying to be set on a copy of a slice from a DataFrame.\n",
      "Try using .loc[row_indexer,col_indexer] = value instead\n",
      "\n",
      "See the caveats in the documentation: http://pandas.pydata.org/pandas-docs/stable/user_guide/indexing.html#returning-a-view-versus-a-copy\n",
      "  \n"
     ]
    }
   ],
   "source": [
    "X_train[\"star zscore\"] = X_train.apply(lambda row: zscores(row[\"star\"], \"star\"), axis = 1)\n",
    "X_test[\"star zscore\"] = X_test.apply(lambda row: zscores(row[\"star\"], \"star\"), axis = 1)"
   ]
  },
  {
   "cell_type": "code",
   "execution_count": 239,
   "metadata": {},
   "outputs": [
    {
     "name": "stderr",
     "output_type": "stream",
     "text": [
      "/Users/willieturchetta/anaconda3/lib/python3.7/site-packages/ipykernel_launcher.py:1: SettingWithCopyWarning: \n",
      "A value is trying to be set on a copy of a slice from a DataFrame.\n",
      "Try using .loc[row_indexer,col_indexer] = value instead\n",
      "\n",
      "See the caveats in the documentation: http://pandas.pydata.org/pandas-docs/stable/user_guide/indexing.html#returning-a-view-versus-a-copy\n",
      "  \"\"\"Entry point for launching an IPython kernel.\n",
      "/Users/willieturchetta/anaconda3/lib/python3.7/site-packages/ipykernel_launcher.py:2: SettingWithCopyWarning: \n",
      "A value is trying to be set on a copy of a slice from a DataFrame.\n",
      "Try using .loc[row_indexer,col_indexer] = value instead\n",
      "\n",
      "See the caveats in the documentation: http://pandas.pydata.org/pandas-docs/stable/user_guide/indexing.html#returning-a-view-versus-a-copy\n",
      "  \n"
     ]
    }
   ],
   "source": [
    "X_train[\"writer zscore\"] = X_train.apply(lambda row: zscores(row[\"writer\"], \"writer\"), axis = 1)\n",
    "X_test[\"writer zscore\"] = X_test.apply(lambda row: zscores(row[\"writer\"], \"writer\"), axis = 1)"
   ]
  },
  {
   "cell_type": "code",
   "execution_count": null,
   "metadata": {},
   "outputs": [],
   "source": []
  },
  {
   "cell_type": "code",
   "execution_count": null,
   "metadata": {},
   "outputs": [],
   "source": []
  },
  {
   "cell_type": "code",
   "execution_count": null,
   "metadata": {},
   "outputs": [],
   "source": []
  },
  {
   "cell_type": "code",
   "execution_count": null,
   "metadata": {},
   "outputs": [],
   "source": [
    "X_train[\"company\"]    "
   ]
  },
  {
   "cell_type": "code",
   "execution_count": null,
   "metadata": {},
   "outputs": [],
   "source": [
    "X_train[\"profit\"]"
   ]
  },
  {
   "cell_type": "code",
   "execution_count": null,
   "metadata": {},
   "outputs": [],
   "source": [
    "companies = np.unique(X_train[\"company\"])"
   ]
  },
  {
   "cell_type": "code",
   "execution_count": null,
   "metadata": {},
   "outputs": [],
   "source": [
    "def probability(row):\n",
    "    up = df[df[\"weekrelease\"] == row]\n",
    "    a = len(up)\n",
    "    b = len(up[up[\"profit\"] > 0])\n",
    "    if(a < 3):\n",
    "        return .5\n",
    "    return b/a"
   ]
  },
  {
   "cell_type": "code",
   "execution_count": null,
   "metadata": {},
   "outputs": [],
   "source": [
    "up = X_train[X_train[\"company\"] == \"Universal Pictures\"]\n",
    "len(up)\n",
    "len(up[up[\"profit\"] > 0])"
   ]
  },
  {
   "cell_type": "code",
   "execution_count": null,
   "metadata": {},
   "outputs": [],
   "source": [
    "probability(\"Universal Pictures\")"
   ]
  },
  {
   "cell_type": "code",
   "execution_count": null,
   "metadata": {},
   "outputs": [],
   "source": [
    "df[\"company probability\"] = df.apply(lambda row: probability(row[\"company\"]), axis = 1)"
   ]
  },
  {
   "cell_type": "code",
   "execution_count": null,
   "metadata": {},
   "outputs": [],
   "source": [
    "df[\"rating probability\"] = df.apply(lambda row: probability(row[\"rating\"]), axis = 1)"
   ]
  },
  {
   "cell_type": "code",
   "execution_count": null,
   "metadata": {},
   "outputs": [],
   "source": [
    "df[\"genre probability\"] = df.apply(lambda row: probability(row[\"genre\"]), axis = 1)"
   ]
  },
  {
   "cell_type": "code",
   "execution_count": null,
   "metadata": {},
   "outputs": [],
   "source": [
    "df[\"runtime\"].describe()"
   ]
  },
  {
   "cell_type": "code",
   "execution_count": null,
   "metadata": {},
   "outputs": [],
   "source": [
    "def bucketrun(time):\n",
    "    if(time < 96):\n",
    "        return 0\n",
    "    elif(time >= 96 and time < 104):\n",
    "        return 1\n",
    "    elif(time > 104 and time < 117):\n",
    "        return 2\n",
    "    else:\n",
    "        return 3"
   ]
  },
  {
   "cell_type": "code",
   "execution_count": null,
   "metadata": {},
   "outputs": [],
   "source": [
    "df[\"bucket runtime\"] = df.apply(lambda row: bucketrun(row[\"runtime\"]), axis = 1)"
   ]
  },
  {
   "cell_type": "code",
   "execution_count": null,
   "metadata": {},
   "outputs": [],
   "source": [
    "df[\"runtime probability\"] = df.apply(lambda row: probability(row[\"bucket runtime\"]), axis = 1)"
   ]
  },
  {
   "cell_type": "code",
   "execution_count": null,
   "metadata": {},
   "outputs": [],
   "source": [
    "df.head()"
   ]
  },
  {
   "cell_type": "code",
   "execution_count": null,
   "metadata": {},
   "outputs": [],
   "source": [
    "import datetime\n",
    "datetime.date(2010, 6, 16).isocalendar()[1]"
   ]
  },
  {
   "cell_type": "code",
   "execution_count": null,
   "metadata": {},
   "outputs": [],
   "source": [
    "def weeknumber(ymd):\n",
    "    m = ymd[0:ymd.find(\"/\")]\n",
    "    d = ymd[ymd.find(\"/\")+1 : ymd.find(\"/\",3)]\n",
    "    y = ymd[ymd.find(\"/\", 3) + 1:]\n",
    "    try:\n",
    "        return datetime.date(int(y), int(m), int(d)).isocalendar()[1]\n",
    "    except:\n",
    "        return -1"
   ]
  },
  {
   "cell_type": "code",
   "execution_count": null,
   "metadata": {},
   "outputs": [],
   "source": [
    "df[\"weekrelease\"] = df.apply(lambda row: weeknumber(row[\"released\"]), axis = 1)"
   ]
  },
  {
   "cell_type": "code",
   "execution_count": null,
   "metadata": {},
   "outputs": [],
   "source": [
    "df = df[df[\"weekrelease\"] != -1]"
   ]
  },
  {
   "cell_type": "code",
   "execution_count": null,
   "metadata": {},
   "outputs": [],
   "source": [
    "df[\"weekrelease probability\"] = df.apply(lambda row: probability(row[\"weekrelease\"]), axis = 1)"
   ]
  },
  {
   "cell_type": "code",
   "execution_count": null,
   "metadata": {},
   "outputs": [],
   "source": [
    "numbers = df[[\"budget\", \"company probability\", \"rating probability\", \"genre probability\", \"runtime probability\", \"weekrelease probability\", \"profit\"]]"
   ]
  },
  {
   "cell_type": "code",
   "execution_count": null,
   "metadata": {},
   "outputs": [],
   "source": [
    "numbers"
   ]
  },
  {
   "cell_type": "code",
   "execution_count": null,
   "metadata": {},
   "outputs": [],
   "source": [
    "X_train, X_test, y_train, y_test = train_test_split(X, Y, random_state=42)"
   ]
  },
  {
   "cell_type": "code",
   "execution_count": null,
   "metadata": {},
   "outputs": [],
   "source": [
    "X_train"
   ]
  },
  {
   "cell_type": "code",
   "execution_count": null,
   "metadata": {},
   "outputs": [],
   "source": [
    "def probability(row):\n",
    "    up = X_train[X_train[\"bucket runtime\"] == row]\n",
    "    a = len(up)\n",
    "    b = len(up[up[\"profit\"] > 0])\n",
    "    print(a)\n",
    "    if(a < 3):\n",
    "        return .5\n",
    "    return b/a"
   ]
  },
  {
   "cell_type": "code",
   "execution_count": null,
   "metadata": {},
   "outputs": [],
   "source": [
    "X_train[\"company probability\"] = X_train.apply(lambda row: probability(row[\"company\"]), axis = 1)"
   ]
  },
  {
   "cell_type": "code",
   "execution_count": null,
   "metadata": {},
   "outputs": [],
   "source": [
    "X_train[\"rating probability\"] = X_train.apply(lambda row: probability(row[\"rating\"]), axis = 1)"
   ]
  },
  {
   "cell_type": "code",
   "execution_count": null,
   "metadata": {},
   "outputs": [],
   "source": [
    "X_train[\"genre probability\"] = X_train.apply(lambda row: probability(row[\"genre\"]), axis = 1)"
   ]
  },
  {
   "cell_type": "code",
   "execution_count": null,
   "metadata": {},
   "outputs": [],
   "source": [
    "X_train.head()"
   ]
  },
  {
   "cell_type": "code",
   "execution_count": null,
   "metadata": {},
   "outputs": [],
   "source": [
    "X_train[\"bucket runtime\"] = X_train.apply(lambda row: bucketrun(row[\"runtime\"]), axis = 1)"
   ]
  },
  {
   "cell_type": "code",
   "execution_count": null,
   "metadata": {},
   "outputs": [],
   "source": [
    "X_train[\"runtime probability\"] = X_train.apply(lambda row: probability(row[\"bucket runtime\"]), axis = 1)"
   ]
  },
  {
   "cell_type": "code",
   "execution_count": null,
   "metadata": {},
   "outputs": [],
   "source": [
    "X_train.head()"
   ]
  },
  {
   "cell_type": "code",
   "execution_count": null,
   "metadata": {},
   "outputs": [],
   "source": [
    "X_train[\"weekrelease\"] = X_train.apply(lambda row: weeknumber(row[\"released\"]), axis = 1)"
   ]
  },
  {
   "cell_type": "code",
   "execution_count": null,
   "metadata": {},
   "outputs": [],
   "source": [
    "X_train = X_train[X_train[\"weekrelease\"] != -1]"
   ]
  },
  {
   "cell_type": "code",
   "execution_count": null,
   "metadata": {},
   "outputs": [],
   "source": []
  },
  {
   "cell_type": "code",
   "execution_count": null,
   "metadata": {},
   "outputs": [],
   "source": [
    "X_train[\"weekrelease probability\"] = X_train.apply(lambda row: probability(row[\"weekrelease\"]), axis = 1)"
   ]
  },
  {
   "cell_type": "code",
   "execution_count": null,
   "metadata": {},
   "outputs": [],
   "source": [
    "X_train.head()"
   ]
  },
  {
   "cell_type": "code",
   "execution_count": null,
   "metadata": {},
   "outputs": [],
   "source": [
    "X_train1 = X_train[[\"budget\",\"company probability\", \"rating probability\", \"genre probability\", \"runtime\", ,\"company probability\", \"rating probability\", \"genre probability\", \"runtime\", \"weekrelease probability\"]]"
   ]
  },
  {
   "cell_type": "code",
   "execution_count": null,
   "metadata": {},
   "outputs": [],
   "source": [
    "Y_train1 = X_train[[\"profit\"]]"
   ]
  },
  {
   "cell_type": "code",
   "execution_count": null,
   "metadata": {},
   "outputs": [],
   "source": [
    "part1 = X_train1.to_numpy()"
   ]
  },
  {
   "cell_type": "code",
   "execution_count": null,
   "metadata": {},
   "outputs": [],
   "source": [
    "part2 = Y_train1.to_numpy()"
   ]
  },
  {
   "cell_type": "code",
   "execution_count": null,
   "metadata": {},
   "outputs": [],
   "source": [
    "from sklearn.linear_model import LogisticRegression"
   ]
  },
  {
   "cell_type": "code",
   "execution_count": null,
   "metadata": {},
   "outputs": [],
   "source": [
    "model = LinearRegression().fit(part1, part2)"
   ]
  },
  {
   "cell_type": "code",
   "execution_count": null,
   "metadata": {},
   "outputs": [],
   "source": [
    "model.score(part1, part2)"
   ]
  },
  {
   "cell_type": "code",
   "execution_count": null,
   "metadata": {},
   "outputs": [],
   "source": [
    "X_train1.head()"
   ]
  },
  {
   "cell_type": "code",
   "execution_count": null,
   "metadata": {},
   "outputs": [],
   "source": []
  }
 ],
 "metadata": {
  "kernelspec": {
   "display_name": "Python 3",
   "language": "python",
   "name": "python3"
  },
  "language_info": {
   "codemirror_mode": {
    "name": "ipython",
    "version": 3
   },
   "file_extension": ".py",
   "mimetype": "text/x-python",
   "name": "python",
   "nbconvert_exporter": "python",
   "pygments_lexer": "ipython3",
   "version": "3.7.3"
  }
 },
 "nbformat": 4,
 "nbformat_minor": 2
}
